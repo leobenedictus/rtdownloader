{
 "cells": [
  {
   "cell_type": "code",
   "execution_count": 1,
   "metadata": {},
   "outputs": [],
   "source": [
    "import requests\n",
    "import os\n",
    "import json\n",
    "import pandas as pd\n",
    "import time"
   ]
  },
  {
   "cell_type": "code",
   "execution_count": 2,
   "metadata": {},
   "outputs": [
    {
     "ename": "NameError",
     "evalue": "name 'BEARER_TOKEN' is not defined",
     "output_type": "error",
     "traceback": [
      "\u001b[0;31m---------------------------------------------------------------------------\u001b[0m",
      "\u001b[0;31mNameError\u001b[0m                                 Traceback (most recent call last)",
      "Cell \u001b[0;32mIn[2], line 2\u001b[0m\n\u001b[1;32m      1\u001b[0m \u001b[39m# # This is my bearer token from my Twitter dev account\u001b[39;00m\n\u001b[0;32m----> 2\u001b[0m bearer_token \u001b[39m=\u001b[39m BEARER_TOKEN\n\u001b[1;32m      4\u001b[0m \u001b[39m# bearer_token = os.environ.get(\"BEARER_TOKEN\")\u001b[39;00m\n\u001b[1;32m      5\u001b[0m \n\u001b[1;32m      6\u001b[0m \u001b[39m# This formats it into something that I don't quite understand, but which seems to make Twitter's API happy. (What is the \"r\" in the function doing?)\u001b[39;00m\n\u001b[1;32m      7\u001b[0m \u001b[39mdef\u001b[39;00m \u001b[39mbearer_oauth\u001b[39m(r):\n",
      "\u001b[0;31mNameError\u001b[0m: name 'BEARER_TOKEN' is not defined"
     ]
    }
   ],
   "source": [
    "\n",
    "# # This is my bearer token from my Twitter dev account\n",
    "bearer_token = BEARER_TOKEN\n",
    "\n",
    "# bearer_token = os.environ.get(\"BEARER_TOKEN\")\n",
    "\n",
    "# This formats it into something that I don't quite understand, but which seems to make Twitter's API happy. (What is the \"r\" in the function doing?)\n",
    "def bearer_oauth(r):\n",
    "    \"\"\"\n",
    "    Method required by bearer token authentication.\n",
    "    \"\"\"\n",
    "\n",
    "    r.headers[\"Authorization\"] = f\"Bearer {bearer_token}\"\n",
    "    r.headers[\"User-Agent\"] = \"v2RetweetedByPython\"\n",
    "    return r\n",
    "\n"
   ]
  },
  {
   "cell_type": "code",
   "execution_count": null,
   "metadata": {},
   "outputs": [],
   "source": [
    "# This is the bit that does the work\n",
    "\n",
    "# tweet url needs to have the id number at the end (you can see this url by clicking on the date of the tweet)\n",
    "url = \"https://twitter.com/thebma/status/1635577217789878278\"\n",
    "tweet_id = url.split(\"status\")[1][1:] \n",
    "\n",
    "token=0\n",
    "\n",
    "payload1 = {'user.fields': 'verified,public_metrics,description,location,entities', 'tweet.fields': 'author_id,created_at,geo,context_annotations,non_public_metrics,organic_metrics', \"max_results\":\"100\"} \n",
    "\n",
    "response = requests.request(\"GET\", f\"https://api.twitter.com/2/tweets/{tweet_id}/retweeted_by\", \n",
    "                            auth=bearer_oauth, params=payload1)\n",
    "print(response)\n",
    "# print(response.json())\n",
    "result_count = response.json()[\"meta\"][\"result_count\"]\n",
    "print(result_count)\n",
    "if result_count == 0:\n",
    "    print(\"done!\")\n",
    "    data = response.json()[\"data\"]\n",
    "else:\n",
    "    data = response.json()[\"data\"]\n",
    "    token = response.json()[\"meta\"][\"next_token\"]\n",
    "    print(token)\n",
    "\n",
    "while result_count != 0:\n",
    "        payload2 = {\"pagination_token\":token, 'user.fields': 'verified,public_metrics,description,location,entities', 'tweet.fields': 'author_id,created_at,geo,context_annotations,non_public_metrics,organic_metrics', \"max_results\":\"100\"}\n",
    "        # remove the next line if there are fewer than 7,000ish retweets and you want it to speed up\n",
    "        time.sleep(15)\n",
    "        response = requests.request(\"GET\", f\"https://api.twitter.com/2/tweets/{tweet_id}/retweeted_by\", \n",
    "                                auth=bearer_oauth, params=payload2)\n",
    "        print(response)\n",
    "        result_count = response.json()[\"meta\"][\"result_count\"]\n",
    "        print(result_count)\n",
    "        if result_count == 0:\n",
    "            print(\"done!\")\n",
    "        else:\n",
    "            data_list = response.json()[\"data\"]\n",
    "            token = response.json()[\"meta\"][\"next_token\"]\n",
    "            for t in data_list:\n",
    "                data.append(t)\n",
    "    \n",
    "\n",
    "\n",
    "\n",
    "    "
   ]
  }
 ],
 "metadata": {
  "kernelspec": {
   "display_name": "Streamlit-Wy1v_7eu",
   "language": "python",
   "name": "python3"
  },
  "language_info": {
   "codemirror_mode": {
    "name": "ipython",
    "version": 3
   },
   "file_extension": ".py",
   "mimetype": "text/x-python",
   "name": "python",
   "nbconvert_exporter": "python",
   "pygments_lexer": "ipython3",
   "version": "3.10.3"
  },
  "orig_nbformat": 4
 },
 "nbformat": 4,
 "nbformat_minor": 2
}
